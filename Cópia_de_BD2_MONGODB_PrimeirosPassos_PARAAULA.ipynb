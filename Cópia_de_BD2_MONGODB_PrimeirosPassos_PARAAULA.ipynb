{
  "nbformat": 4,
  "nbformat_minor": 0,
  "metadata": {
    "colab": {
      "provenance": [],
      "include_colab_link": true
    },
    "kernelspec": {
      "name": "python3",
      "display_name": "Python 3"
    },
    "language_info": {
      "name": "python"
    }
  },
  "cells": [
    {
      "cell_type": "markdown",
      "metadata": {
        "id": "view-in-github",
        "colab_type": "text"
      },
      "source": [
        "<a href=\"https://colab.research.google.com/github/Gabico-Freitas/MongoBD/blob/main/C%C3%B3pia_de_BD2_MONGODB_PrimeirosPassos_PARAAULA.ipynb\" target=\"_parent\"><img src=\"https://colab.research.google.com/assets/colab-badge.svg\" alt=\"Open In Colab\"/></a>"
      ]
    },
    {
      "cell_type": "markdown",
      "source": [
        "## Instalação do PyMongo"
      ],
      "metadata": {
        "id": "pjITPGBa8WLk"
      }
    },
    {
      "cell_type": "code",
      "execution_count": null,
      "metadata": {
        "id": "f_I38MOVFDIH",
        "outputId": "e927b2cf-0c68-4788-8a7b-09b9528b499d",
        "colab": {
          "base_uri": "https://localhost:8080/"
        }
      },
      "outputs": [
        {
          "output_type": "stream",
          "name": "stdout",
          "text": [
            "Collecting pymongo[srv,tls]\n",
            "  Downloading pymongo-4.9.1-cp310-cp310-manylinux_2_17_x86_64.manylinux2014_x86_64.whl.metadata (22 kB)\n",
            "\u001b[33mWARNING: pymongo 4.9.1 does not provide the extra 'srv'\u001b[0m\u001b[33m\n",
            "\u001b[0m\u001b[33mWARNING: pymongo 4.9.1 does not provide the extra 'tls'\u001b[0m\u001b[33m\n",
            "\u001b[0mCollecting dnspython<3.0.0,>=1.16.0 (from pymongo[srv,tls])\n",
            "  Downloading dnspython-2.6.1-py3-none-any.whl.metadata (5.8 kB)\n",
            "Downloading dnspython-2.6.1-py3-none-any.whl (307 kB)\n",
            "\u001b[2K   \u001b[90m━━━━━━━━━━━━━━━━━━━━━━━━━━━━━━━━━━━━━━━━\u001b[0m \u001b[32m307.7/307.7 kB\u001b[0m \u001b[31m5.5 MB/s\u001b[0m eta \u001b[36m0:00:00\u001b[0m\n",
            "\u001b[?25hDownloading pymongo-4.9.1-cp310-cp310-manylinux_2_17_x86_64.manylinux2014_x86_64.whl (1.4 MB)\n",
            "\u001b[2K   \u001b[90m━━━━━━━━━━━━━━━━━━━━━━━━━━━━━━━━━━━━━━━━\u001b[0m \u001b[32m1.4/1.4 MB\u001b[0m \u001b[31m22.7 MB/s\u001b[0m eta \u001b[36m0:00:00\u001b[0m\n",
            "\u001b[?25h"
          ]
        }
      ],
      "source": [
        "!pip install pymongo[srv,tls]"
      ]
    },
    {
      "cell_type": "markdown",
      "source": [
        "## Importação de bibliotecas do Python"
      ],
      "metadata": {
        "id": "r0izIkBB8gxc"
      }
    },
    {
      "cell_type": "code",
      "source": [
        "import pymongo\n",
        "import json\n",
        "import pandas as pd\n",
        "from bson.json_util import dumps\n",
        "from IPython.display import display\n",
        "from pprint import pprint"
      ],
      "metadata": {
        "id": "1LKIiuTtF8Wu"
      },
      "execution_count": null,
      "outputs": []
    },
    {
      "cell_type": "markdown",
      "source": [
        "## Configurando as credenciais de acesso e conectando ao BD\n",
        "\n"
      ],
      "metadata": {
        "id": "tiqy6PHJGCfu"
      }
    },
    {
      "cell_type": "code",
      "source": [
        "mongo_usuario = \"\" # insira o nome do seu usuário de acesso ao MongoDB Atlas [verifique em Database > Connnect > Drivers ]\n",
        "mongo_senha = \"\"   # insira sua senha para o usuário utilizado\n",
        "mongo_host = \" \"   # verifique qual o host no MongoDB Atlas [verifique em Database Acess]"
      ],
      "metadata": {
        "id": "JrQMXFVOUHzO"
      },
      "execution_count": null,
      "outputs": []
    },
    {
      "cell_type": "code",
      "source": [
        "conexao = pymongo.MongoClient(\"mongodb+srv://\" + mongo_usuario + \":\" + mongo_senha + \"@\" + mongo_host + \"/?retryWrites=true&w=majority\")\n",
        "print(conexao.name)"
      ],
      "metadata": {
        "id": "yPy5EKJpF_Mk"
      },
      "execution_count": null,
      "outputs": []
    },
    {
      "cell_type": "code",
      "source": [
        "conexao.list_database_names()"
      ],
      "metadata": {
        "id": "ELllpCJUZZXs"
      },
      "execution_count": null,
      "outputs": []
    },
    {
      "cell_type": "code",
      "source": [
        "print(conexao)"
      ],
      "metadata": {
        "id": "vuYoEHRhdkm_"
      },
      "execution_count": null,
      "outputs": []
    },
    {
      "cell_type": "markdown",
      "source": [
        "## Selecionando banco de dados"
      ],
      "metadata": {
        "id": "NEMBoda180ae"
      }
    },
    {
      "cell_type": "code",
      "source": [
        "bd = conexao[\"\"] #insira o nome do seu banco de dados"
      ],
      "metadata": {
        "id": "8DPgDifqagZv"
      },
      "execution_count": null,
      "outputs": []
    },
    {
      "cell_type": "code",
      "source": [
        "print(bd)"
      ],
      "metadata": {
        "id": "NDu92tuWdqHl"
      },
      "execution_count": null,
      "outputs": []
    },
    {
      "cell_type": "markdown",
      "source": [
        "## Lista de coleções do banco de dados"
      ],
      "metadata": {
        "id": "qzFbQTvE87RB"
      }
    },
    {
      "cell_type": "code",
      "source": [
        "bd.list_collection_names()"
      ],
      "metadata": {
        "id": "4lYgQBxxd6QI"
      },
      "execution_count": null,
      "outputs": []
    },
    {
      "cell_type": "code",
      "source": [
        "bd.command(\"dbstats\") # prints database stats for \"test_db\""
      ],
      "metadata": {
        "id": "8weULtlPb7Rg"
      },
      "execution_count": null,
      "outputs": []
    },
    {
      "cell_type": "markdown",
      "source": [
        "## Busca de dados nas coleções\n"
      ],
      "metadata": {
        "id": "MAkeb9pg9Eis"
      }
    },
    {
      "cell_type": "code",
      "source": [
        "resultado = bd.Hospitais.find({\"id_hospital\":1})\n",
        "# retorna sempre um cursor para ser iterado em um laço de repetição ou listado usando o método list()\n",
        "list(resultado)"
      ],
      "metadata": {
        "id": "YXirG0Dp-Ms5"
      },
      "execution_count": null,
      "outputs": []
    },
    {
      "cell_type": "code",
      "source": [
        "# método para exibição dos dados de JSON em formato tabular\n",
        "def tabular(dados):\n",
        "    load = json.loads(dumps(dados))\n",
        "    df = pd.DataFrame(load)\n",
        "    display(df)"
      ],
      "metadata": {
        "id": "weDZT3mOAAWH"
      },
      "execution_count": null,
      "outputs": []
    },
    {
      "cell_type": "code",
      "source": [
        "tabular(bd.Hospitais.find())"
      ],
      "metadata": {
        "colab": {
          "base_uri": "https://localhost:8080/",
          "height": 175
        },
        "id": "O0p6fQpzAxzH",
        "outputId": "cd1bf643-19bb-409a-ebb2-e9799b242fd0"
      },
      "execution_count": null,
      "outputs": [
        {
          "output_type": "display_data",
          "data": {
            "text/plain": [
              "                                    _id  id_hospital  \\\n",
              "0  {'$oid': '64f7b6a85369cfa86da11a94'}          1.0   \n",
              "1  {'$oid': '64f7b8845369cfa86da547c2'}          2.0   \n",
              "2  {'$oid': '6500f116a9503291154a1989'}          NaN   \n",
              "3  {'$oid': '6500f70bdff3f1c6b4828a48'}          NaN   \n",
              "\n",
              "                                   nome  \\\n",
              "0  Hospital de Clínicas de Porto Alegre   \n",
              "1                    Hospital Santa Ana   \n",
              "2             Hospital Moinhos de Vento   \n",
              "3                    Hospital Conceição   \n",
              "\n",
              "                                            endereco  \\\n",
              "0  {'rua': 'Ramiro Barcelos', 'numero': 1345, 'co...   \n",
              "1  {'rua': 'Bento Gonçalves', 'numero': 1287, 'co...   \n",
              "2  {'rua': 'Ramiro Barcelos', 'numero': '2928', '...   \n",
              "3  {'rua': 'Bento Gonçalves', 'numero': '9283', '...   \n",
              "\n",
              "                                               salas  idHospital  \n",
              "0  [{'num_sala': 201, 'ala': 'Bloco Cirúrgico', '...         NaN  \n",
              "1  [{'num_sala': 503, 'ala': 'Ala Esquerda', 'and...         NaN  \n",
              "2  [{'numSala': 502, 'ala': 'Bloco A', 'andar': 5...         1.0  \n",
              "3                                                NaN         5.0  "
            ],
            "text/html": [
              "\n",
              "  <div id=\"df-f179f041-3acd-4369-805d-ef96ba12eddf\" class=\"colab-df-container\">\n",
              "    <div>\n",
              "<style scoped>\n",
              "    .dataframe tbody tr th:only-of-type {\n",
              "        vertical-align: middle;\n",
              "    }\n",
              "\n",
              "    .dataframe tbody tr th {\n",
              "        vertical-align: top;\n",
              "    }\n",
              "\n",
              "    .dataframe thead th {\n",
              "        text-align: right;\n",
              "    }\n",
              "</style>\n",
              "<table border=\"1\" class=\"dataframe\">\n",
              "  <thead>\n",
              "    <tr style=\"text-align: right;\">\n",
              "      <th></th>\n",
              "      <th>_id</th>\n",
              "      <th>id_hospital</th>\n",
              "      <th>nome</th>\n",
              "      <th>endereco</th>\n",
              "      <th>salas</th>\n",
              "      <th>idHospital</th>\n",
              "    </tr>\n",
              "  </thead>\n",
              "  <tbody>\n",
              "    <tr>\n",
              "      <th>0</th>\n",
              "      <td>{'$oid': '64f7b6a85369cfa86da11a94'}</td>\n",
              "      <td>1.0</td>\n",
              "      <td>Hospital de Clínicas de Porto Alegre</td>\n",
              "      <td>{'rua': 'Ramiro Barcelos', 'numero': 1345, 'co...</td>\n",
              "      <td>[{'num_sala': 201, 'ala': 'Bloco Cirúrgico', '...</td>\n",
              "      <td>NaN</td>\n",
              "    </tr>\n",
              "    <tr>\n",
              "      <th>1</th>\n",
              "      <td>{'$oid': '64f7b8845369cfa86da547c2'}</td>\n",
              "      <td>2.0</td>\n",
              "      <td>Hospital Santa Ana</td>\n",
              "      <td>{'rua': 'Bento Gonçalves', 'numero': 1287, 'co...</td>\n",
              "      <td>[{'num_sala': 503, 'ala': 'Ala Esquerda', 'and...</td>\n",
              "      <td>NaN</td>\n",
              "    </tr>\n",
              "    <tr>\n",
              "      <th>2</th>\n",
              "      <td>{'$oid': '6500f116a9503291154a1989'}</td>\n",
              "      <td>NaN</td>\n",
              "      <td>Hospital Moinhos de Vento</td>\n",
              "      <td>{'rua': 'Ramiro Barcelos', 'numero': '2928', '...</td>\n",
              "      <td>[{'numSala': 502, 'ala': 'Bloco A', 'andar': 5...</td>\n",
              "      <td>1.0</td>\n",
              "    </tr>\n",
              "    <tr>\n",
              "      <th>3</th>\n",
              "      <td>{'$oid': '6500f70bdff3f1c6b4828a48'}</td>\n",
              "      <td>NaN</td>\n",
              "      <td>Hospital Conceição</td>\n",
              "      <td>{'rua': 'Bento Gonçalves', 'numero': '9283', '...</td>\n",
              "      <td>NaN</td>\n",
              "      <td>5.0</td>\n",
              "    </tr>\n",
              "  </tbody>\n",
              "</table>\n",
              "</div>\n",
              "    <div class=\"colab-df-buttons\">\n",
              "\n",
              "  <div class=\"colab-df-container\">\n",
              "    <button class=\"colab-df-convert\" onclick=\"convertToInteractive('df-f179f041-3acd-4369-805d-ef96ba12eddf')\"\n",
              "            title=\"Convert this dataframe to an interactive table.\"\n",
              "            style=\"display:none;\">\n",
              "\n",
              "  <svg xmlns=\"http://www.w3.org/2000/svg\" height=\"24px\" viewBox=\"0 -960 960 960\">\n",
              "    <path d=\"M120-120v-720h720v720H120Zm60-500h600v-160H180v160Zm220 220h160v-160H400v160Zm0 220h160v-160H400v160ZM180-400h160v-160H180v160Zm440 0h160v-160H620v160ZM180-180h160v-160H180v160Zm440 0h160v-160H620v160Z\"/>\n",
              "  </svg>\n",
              "    </button>\n",
              "\n",
              "  <style>\n",
              "    .colab-df-container {\n",
              "      display:flex;\n",
              "      gap: 12px;\n",
              "    }\n",
              "\n",
              "    .colab-df-convert {\n",
              "      background-color: #E8F0FE;\n",
              "      border: none;\n",
              "      border-radius: 50%;\n",
              "      cursor: pointer;\n",
              "      display: none;\n",
              "      fill: #1967D2;\n",
              "      height: 32px;\n",
              "      padding: 0 0 0 0;\n",
              "      width: 32px;\n",
              "    }\n",
              "\n",
              "    .colab-df-convert:hover {\n",
              "      background-color: #E2EBFA;\n",
              "      box-shadow: 0px 1px 2px rgba(60, 64, 67, 0.3), 0px 1px 3px 1px rgba(60, 64, 67, 0.15);\n",
              "      fill: #174EA6;\n",
              "    }\n",
              "\n",
              "    .colab-df-buttons div {\n",
              "      margin-bottom: 4px;\n",
              "    }\n",
              "\n",
              "    [theme=dark] .colab-df-convert {\n",
              "      background-color: #3B4455;\n",
              "      fill: #D2E3FC;\n",
              "    }\n",
              "\n",
              "    [theme=dark] .colab-df-convert:hover {\n",
              "      background-color: #434B5C;\n",
              "      box-shadow: 0px 1px 3px 1px rgba(0, 0, 0, 0.15);\n",
              "      filter: drop-shadow(0px 1px 2px rgba(0, 0, 0, 0.3));\n",
              "      fill: #FFFFFF;\n",
              "    }\n",
              "  </style>\n",
              "\n",
              "    <script>\n",
              "      const buttonEl =\n",
              "        document.querySelector('#df-f179f041-3acd-4369-805d-ef96ba12eddf button.colab-df-convert');\n",
              "      buttonEl.style.display =\n",
              "        google.colab.kernel.accessAllowed ? 'block' : 'none';\n",
              "\n",
              "      async function convertToInteractive(key) {\n",
              "        const element = document.querySelector('#df-f179f041-3acd-4369-805d-ef96ba12eddf');\n",
              "        const dataTable =\n",
              "          await google.colab.kernel.invokeFunction('convertToInteractive',\n",
              "                                                    [key], {});\n",
              "        if (!dataTable) return;\n",
              "\n",
              "        const docLinkHtml = 'Like what you see? Visit the ' +\n",
              "          '<a target=\"_blank\" href=https://colab.research.google.com/notebooks/data_table.ipynb>data table notebook</a>'\n",
              "          + ' to learn more about interactive tables.';\n",
              "        element.innerHTML = '';\n",
              "        dataTable['output_type'] = 'display_data';\n",
              "        await google.colab.output.renderOutput(dataTable, element);\n",
              "        const docLink = document.createElement('div');\n",
              "        docLink.innerHTML = docLinkHtml;\n",
              "        element.appendChild(docLink);\n",
              "      }\n",
              "    </script>\n",
              "  </div>\n",
              "\n",
              "\n",
              "<div id=\"df-26de4bd8-b40d-4067-8185-cba4db720d88\">\n",
              "  <button class=\"colab-df-quickchart\" onclick=\"quickchart('df-26de4bd8-b40d-4067-8185-cba4db720d88')\"\n",
              "            title=\"Suggest charts.\"\n",
              "            style=\"display:none;\">\n",
              "\n",
              "<svg xmlns=\"http://www.w3.org/2000/svg\" height=\"24px\"viewBox=\"0 0 24 24\"\n",
              "     width=\"24px\">\n",
              "    <g>\n",
              "        <path d=\"M19 3H5c-1.1 0-2 .9-2 2v14c0 1.1.9 2 2 2h14c1.1 0 2-.9 2-2V5c0-1.1-.9-2-2-2zM9 17H7v-7h2v7zm4 0h-2V7h2v10zm4 0h-2v-4h2v4z\"/>\n",
              "    </g>\n",
              "</svg>\n",
              "  </button>\n",
              "\n",
              "<style>\n",
              "  .colab-df-quickchart {\n",
              "      --bg-color: #E8F0FE;\n",
              "      --fill-color: #1967D2;\n",
              "      --hover-bg-color: #E2EBFA;\n",
              "      --hover-fill-color: #174EA6;\n",
              "      --disabled-fill-color: #AAA;\n",
              "      --disabled-bg-color: #DDD;\n",
              "  }\n",
              "\n",
              "  [theme=dark] .colab-df-quickchart {\n",
              "      --bg-color: #3B4455;\n",
              "      --fill-color: #D2E3FC;\n",
              "      --hover-bg-color: #434B5C;\n",
              "      --hover-fill-color: #FFFFFF;\n",
              "      --disabled-bg-color: #3B4455;\n",
              "      --disabled-fill-color: #666;\n",
              "  }\n",
              "\n",
              "  .colab-df-quickchart {\n",
              "    background-color: var(--bg-color);\n",
              "    border: none;\n",
              "    border-radius: 50%;\n",
              "    cursor: pointer;\n",
              "    display: none;\n",
              "    fill: var(--fill-color);\n",
              "    height: 32px;\n",
              "    padding: 0;\n",
              "    width: 32px;\n",
              "  }\n",
              "\n",
              "  .colab-df-quickchart:hover {\n",
              "    background-color: var(--hover-bg-color);\n",
              "    box-shadow: 0 1px 2px rgba(60, 64, 67, 0.3), 0 1px 3px 1px rgba(60, 64, 67, 0.15);\n",
              "    fill: var(--button-hover-fill-color);\n",
              "  }\n",
              "\n",
              "  .colab-df-quickchart-complete:disabled,\n",
              "  .colab-df-quickchart-complete:disabled:hover {\n",
              "    background-color: var(--disabled-bg-color);\n",
              "    fill: var(--disabled-fill-color);\n",
              "    box-shadow: none;\n",
              "  }\n",
              "\n",
              "  .colab-df-spinner {\n",
              "    border: 2px solid var(--fill-color);\n",
              "    border-color: transparent;\n",
              "    border-bottom-color: var(--fill-color);\n",
              "    animation:\n",
              "      spin 1s steps(1) infinite;\n",
              "  }\n",
              "\n",
              "  @keyframes spin {\n",
              "    0% {\n",
              "      border-color: transparent;\n",
              "      border-bottom-color: var(--fill-color);\n",
              "      border-left-color: var(--fill-color);\n",
              "    }\n",
              "    20% {\n",
              "      border-color: transparent;\n",
              "      border-left-color: var(--fill-color);\n",
              "      border-top-color: var(--fill-color);\n",
              "    }\n",
              "    30% {\n",
              "      border-color: transparent;\n",
              "      border-left-color: var(--fill-color);\n",
              "      border-top-color: var(--fill-color);\n",
              "      border-right-color: var(--fill-color);\n",
              "    }\n",
              "    40% {\n",
              "      border-color: transparent;\n",
              "      border-right-color: var(--fill-color);\n",
              "      border-top-color: var(--fill-color);\n",
              "    }\n",
              "    60% {\n",
              "      border-color: transparent;\n",
              "      border-right-color: var(--fill-color);\n",
              "    }\n",
              "    80% {\n",
              "      border-color: transparent;\n",
              "      border-right-color: var(--fill-color);\n",
              "      border-bottom-color: var(--fill-color);\n",
              "    }\n",
              "    90% {\n",
              "      border-color: transparent;\n",
              "      border-bottom-color: var(--fill-color);\n",
              "    }\n",
              "  }\n",
              "</style>\n",
              "\n",
              "  <script>\n",
              "    async function quickchart(key) {\n",
              "      const quickchartButtonEl =\n",
              "        document.querySelector('#' + key + ' button');\n",
              "      quickchartButtonEl.disabled = true;  // To prevent multiple clicks.\n",
              "      quickchartButtonEl.classList.add('colab-df-spinner');\n",
              "      try {\n",
              "        const charts = await google.colab.kernel.invokeFunction(\n",
              "            'suggestCharts', [key], {});\n",
              "      } catch (error) {\n",
              "        console.error('Error during call to suggestCharts:', error);\n",
              "      }\n",
              "      quickchartButtonEl.classList.remove('colab-df-spinner');\n",
              "      quickchartButtonEl.classList.add('colab-df-quickchart-complete');\n",
              "    }\n",
              "    (() => {\n",
              "      let quickchartButtonEl =\n",
              "        document.querySelector('#df-26de4bd8-b40d-4067-8185-cba4db720d88 button');\n",
              "      quickchartButtonEl.style.display =\n",
              "        google.colab.kernel.accessAllowed ? 'block' : 'none';\n",
              "    })();\n",
              "  </script>\n",
              "</div>\n",
              "    </div>\n",
              "  </div>\n"
            ]
          },
          "metadata": {}
        }
      ]
    },
    {
      "cell_type": "code",
      "source": [
        "bd.Hospitais.count_documents({})"
      ],
      "metadata": {
        "colab": {
          "base_uri": "https://localhost:8080/"
        },
        "id": "Ua8uAY2rYZhD",
        "outputId": "c9ae5c47-6a0a-4084-918b-567d377ccf27"
      },
      "execution_count": null,
      "outputs": [
        {
          "output_type": "execute_result",
          "data": {
            "text/plain": [
              "4"
            ]
          },
          "metadata": {},
          "execution_count": 33
        }
      ]
    },
    {
      "cell_type": "code",
      "source": [
        "# consulta com ordenação de dados"
      ],
      "metadata": {
        "id": "yRjD9f1TZsu5"
      },
      "execution_count": null,
      "outputs": []
    },
    {
      "cell_type": "code",
      "source": [
        "# consulta com diversos critérios"
      ],
      "metadata": {
        "id": "yxO-kNqm78-8"
      },
      "execution_count": null,
      "outputs": []
    },
    {
      "cell_type": "markdown",
      "source": [
        "##INSERÇÃO DE DADOS"
      ],
      "metadata": {
        "id": "7NWmLXirVKec"
      }
    },
    {
      "cell_type": "code",
      "source": [
        "# construção de estrutura"
      ],
      "metadata": {
        "id": "41g_e_mTQwtY"
      },
      "execution_count": null,
      "outputs": []
    },
    {
      "cell_type": "code",
      "source": [
        "#inserção de um registro"
      ],
      "metadata": {
        "id": "ucr2pe_YYMdz"
      },
      "execution_count": null,
      "outputs": []
    },
    {
      "cell_type": "code",
      "source": [
        "# inserção de muitos registros"
      ],
      "metadata": {
        "id": "CzBzLlzNYY9p"
      },
      "execution_count": null,
      "outputs": []
    }
  ]
}